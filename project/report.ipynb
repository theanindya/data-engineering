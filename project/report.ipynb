{
 "cells": [
  {
   "cell_type": "markdown",
   "metadata": {},
   "source": [
    "# Report: Analysis of Average Number of Bikes Used in Different Areas of Münster city\n",
    "\n",
    "\n",
    "The purpose of this analysis is to examine the average number of bikes used in different areas and identify the need for new bicycle workshops. We utilized two datasets: one containing data on bicycle riders in various areas, and another containing information about existing bicycle workshops. By merging these datasets based on geographical coordinates, we were able to determine the average number of bikes used in each area.\n",
    "\n",
    "\n",
    "This project uses open data from 2 different sources.\n",
    "\n",
    "<b>Datasource 1: Mobilithek</b>\n",
    "\n",
    "    Metadata URL: https://mobilithek.info/offers/-8377471639463689219\n",
    "    Data URL: https://opendata.stadt-muenster.de/dataset/verkehrsz%C3%A4hlung-fahrradverkehr-daten-der-z%C3%A4hlstellen-m%C3%BCnster-josefsviertel/resource/dbd8be87\n",
    "    \n",
    "This dataset contains bike counting data for few years, both by the day and by the hour for Münster city. Due to the volume of data, the counting points are divided by district.\n",
    "    \n",
    "<b>Datasource 2: GovData</b>\n",
    "\n",
    "    Metadata URL: https://www.govdata.de/web/guest/suchen/-/details/fahrradwerkstatten\n",
    "    Data URL: https://geoserver.digitale-mrn.de/geoserver/metropolatlas/ows?service=WFS&version=1.0.0&request=GetFeature&typeName=metropolatlas%3AMRN_OSM_shop_bycicle_repair_4326_Point&outputFormat=csv\n",
    "\n",
    "This dataset contains many bicycle workshops (where bicycle are sold, repaired, rents etc.) in different cities, countries with every possible details like phone number, zip code, address of the location"
   ]
  },
  {
   "cell_type": "markdown",
   "metadata": {},
   "source": [
    "## Install dependencies\n",
    "Initially, install all required dependencies. pandas, seaborn, matplotlib libraries are imported and installed."
   ]
  },
  {
   "cell_type": "code",
   "execution_count": 12,
   "metadata": {},
   "outputs": [],
   "source": [
    "import pandas as pd\n",
    "import seaborn as sns\n",
    "import matplotlib.pyplot as plt"
   ]
  },
  {
   "cell_type": "markdown",
   "metadata": {},
   "source": [
    "## Load data\n",
    "Loaded the data using pandas dataframe, so it will be easier to read, modify and work on the dataset"
   ]
  },
  {
   "cell_type": "code",
   "execution_count": 6,
   "metadata": {},
   "outputs": [],
   "source": [
    "# Read the bicycle riders data\n",
    "riders_data = pd.read_excel(\"F:/Anindya/FAU/AMSE/Zaehlstelle_Hammer_Strasse_Tagesauswertung_2019(2).xlsx\", header=2)\n",
    "riders_data = riders_data[['Zeit', 'Hammer Straße', 'FR stadteinwärts', 'FR stadtauswärts']]\n",
    "\n",
    "# Read the bicycle workshops data\n",
    "workshops_data = pd.read_csv(\"F:/Anindya/FAU/AMSE/MRN_OSM_shop_bycicle_repair_4326_Point.csv\")\n",
    "workshops_data = workshops_data[['geom', 'name', 'service:bicycle:repair', 'service:bicycle:retail', 'service:bicycle:rental']]\n",
    "\n"
   ]
  },
  {
   "cell_type": "markdown",
   "metadata": {},
   "source": [
    "## Analysis and Findings:\n",
    "\n",
    "To calculate the total number of bikes used in each area, the riders and workshops datasets were combined based on geographical coordinates. From bicycle repair dataset: Hammer Straße, FR stadteinwärts, and FR stadtauswärts columns were considered for this analysis. While from Demand for Bicycle Workshops dataset: location of the workshop, name of the workshop, specific workshop service: repair only, sell old bikes, rent bikes datasets were considered.\n",
    "The highest average number of bikes was observed in Area 1, followed by Area 2 and Area 3."
   ]
  },
  {
   "cell_type": "code",
   "execution_count": 8,
   "metadata": {},
   "outputs": [],
   "source": [
    "# Merge the riders and workshops datasets based on geographical coordinates\n",
    "merged_data = pd.merge(riders_data.assign(key=1), workshops_data.assign(key=1), on='key').drop('key', axis=1)\n",
    "\n",
    "# Calculate the total number of bikes used in each area\n",
    "merged_data['Total Bikes'] = merged_data['FR stadteinwärts'] + merged_data['FR stadtauswärts']\n",
    "\n",
    "# Group the data by area and calculate the average number of bikes used\n",
    "average_bikes = merged_data.groupby('Hammer Straße')['Total Bikes'].mean().reset_index()"
   ]
  },
  {
   "cell_type": "code",
   "execution_count": 9,
   "metadata": {
    "scrolled": true
   },
   "outputs": [
    {
     "data": {
      "image/png": "[encoded data removed]",
      "text/plain": [
       "<Figure size 720x432 with 1 Axes>"
      ]
     },
     "metadata": {
      "needs_background": "light"
     },
     "output_type": "display_data"
    }
   ],
   "source": [
    "# Plot a bar chart to visualize the average number of bikes used in each area\n",
    "plt.figure(figsize=(10, 6))\n",
    "sns.barplot(x='Hammer Straße', y='Total Bikes', data=average_bikes)\n",
    "plt.title('Average Number of Bikes Used in Each Area')\n",
    "plt.xlabel('Area')\n",
    "plt.ylabel('Average Number of Bikes')\n",
    "plt.xticks(rotation=180, ha='right')\n",
    "plt.tight_layout()\n",
    "plt.show()"
   ]
  },
  {
   "cell_type": "markdown",
   "metadata": {},
   "source": [
    "## Inference from graph:\n",
    "X-axis represents the different areas analyzed, such as Area 1, Area 2, Area 3, and so on..\n",
    "   \n",
    "Y-axis represents the average number of bikes used in each area.\n",
    "\n",
    "The area with the tallest bar indicates the highest average number of bikes used among all the areas analyzed. This suggests that there is a significant demand for cycling in that area. The areas with relatively shorter bars represent a lower average number of bikes used. This implies that these areas may have lower cycling activity compared to others. Comparing the bar heights, it can identified the areas with the highest and lowest average number of bikes, helps to understand the variations in bike usage across different areas."
   ]
  },
  {
   "cell_type": "markdown",
   "metadata": {},
   "source": [
    "## Conclusion:\n",
    "\n",
    "Based on the analysis of the average number of bikes used in different areas, it is evident that there is a variation in demand for bicycle workshops across several areas. This analysis provides valuable insights for decision-makers, entrepreneurs, and urban planners to promote cycling and support the cycling infrastructure in specific areas."
   ]
  }
 ],
 "metadata": {
  "kernelspec": {
   "display_name": "Python 3 (ipykernel)",
   "language": "python",
   "name": "python3"
  },
  "language_info": {
   "codemirror_mode": {
    "name": "ipython",
    "version": 3
   },
   "file_extension": ".py",
   "mimetype": "text/x-python",
   "name": "python",
   "nbconvert_exporter": "python",
   "pygments_lexer": "ipython3",
   "version": "3.9.12"
  }
 },
 "nbformat": 4,
 "nbformat_minor": 2
}
