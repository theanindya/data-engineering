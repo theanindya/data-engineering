{
 "cells": [
  {
   "cell_type": "markdown",
   "metadata": {},
   "source": [
    "# Data Exploration\n",
    "\n",
    "This notebook describes data exploration step by step process in a very brief and simple manner by installing libraries, laoding databases, and data manupulation."
   ]
  },
  {
   "cell_type": "markdown",
   "metadata": {},
   "source": [
    "## Install dependencies"
   ]
  },
  {
   "cell_type": "code",
   "execution_count": 4,
   "metadata": {},
   "outputs": [],
   "source": [
    "import pandas as pd\n",
    "import seaborn as sns\n",
    "import matplotlib.pyplot as plt"
   ]
  },
  {
   "cell_type": "markdown",
   "metadata": {},
   "source": [
    "## Load data from both sources"
   ]
  },
  {
   "cell_type": "code",
   "execution_count": 5,
   "metadata": {},
   "outputs": [],
   "source": [
    "# Read the bicycle riders data\n",
    "riders_data = pd.read_excel(\"F:/Anindya/FAU/AMSE/Zaehlstelle_Hammer_Strasse_Tagesauswertung_2019(2).xlsx\", header=2)\n",
    "riders_data = riders_data[['Zeit', 'Hammer Straße', 'FR stadteinwärts', 'FR stadtauswärts']]\n",
    "\n",
    "# Read the bicycle workshops data\n",
    "workshops_data = pd.read_csv(\"F:/Anindya/FAU/AMSE/MRN_OSM_shop_bycicle_repair_4326_Point.csv\")\n",
    "workshops_data = workshops_data[['geom', 'name', 'service:bicycle:repair', 'service:bicycle:retail', 'service:bicycle:rental']]"
   ]
  },
  {
   "cell_type": "markdown",
   "metadata": {},
   "source": [
    "### Data Exploration of Data Source 1 and Data Source 2 "
   ]
  },
  {
   "cell_type": "code",
   "execution_count": null,
   "metadata": {},
   "outputs": [],
   "source": [
    "# Merge the riders and workshops datasets based on geographical coordinates\n",
    "merged_data = pd.merge(riders_data.assign(key=1), workshops_data.assign(key=1), on='key').drop('key', axis=1)\n",
    "\n",
    "# Calculate the total number of bikes used in each area\n",
    "merged_data['Total Bikes'] = merged_data['FR stadteinwärts'] + merged_data['FR stadtauswärts']\n",
    "\n",
    "# Group the data by area and calculate the average number of bikes used\n",
    "average_bikes = merged_data.groupby('Hammer Straße')['Total Bikes'].mean().reset_index()"
   ]
  }
 ],
 "metadata": {
  "kernelspec": {
   "display_name": "Python 3 (ipykernel)",
   "language": "python",
   "name": "python3"
  },
  "language_info": {
   "codemirror_mode": {
    "name": "ipython",
    "version": 3
   },
   "file_extension": ".py",
   "mimetype": "text/x-python",
   "name": "python",
   "nbconvert_exporter": "python",
   "pygments_lexer": "ipython3",
   "version": "3.9.12"
  }
 },
 "nbformat": 4,
 "nbformat_minor": 2
}
